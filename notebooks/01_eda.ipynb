{
 "cells": [
  {
   "cell_type": "markdown",
   "metadata": {},
   "source": [
    "# Customer Churn Prediction Analysis\n",
    "**Author:** Ethan Tran\n",
    "**Dataset:** Telco Customer Churn  \n",
    "\n",
    "## Project Overview\n",
    "This notebook performs exploratory data analysis on telecom customer data to understand factors that influence customer churn. The goal is to build a predictive model that can identify customers likely to leave the service.\n",
    "\n",
    "## Business Context\n",
    "- Customer churn costs companies significant revenue\n",
    "- Acquiring new customers is 5-25x more expensive than retention\n",
    "- Understanding churn patterns enables proactive retention strategies"
   ]
  },
  {
   "cell_type": "code",
   "execution_count": null,
   "metadata": {},
   "outputs": [
    {
     "name": "stdout",
     "output_type": "stream",
     "text": [
      "Package                 Version\n",
      "----------------------- -----------\n",
      "appnope                 0.1.4\n",
      "asttokens               3.0.0\n",
      "certifi                 2024.12.14\n",
      "comm                    0.2.3\n",
      "debugpy                 1.8.16\n",
      "decorator               5.2.1\n",
      "distlib                 0.3.9\n",
      "executing               2.2.1\n",
      "filelock                3.16.1\n",
      "ipykernel               6.30.1\n",
      "ipython                 9.5.0\n",
      "ipython_pygments_lexers 1.1.1\n",
      "jedi                    0.19.2\n",
      "jupyter_client          8.6.3\n",
      "jupyter_core            5.8.1\n",
      "matplotlib-inline       0.1.7\n",
      "nest-asyncio            1.6.0\n",
      "packaging               24.2\n",
      "parso                   0.8.5\n",
      "pexpect                 4.9.0\n",
      "pip                     24.3.1\n",
      "pipenv                  2024.4.0\n",
      "platformdirs            4.3.6\n",
      "prompt_toolkit          3.0.52\n",
      "psutil                  7.0.0\n",
      "ptyprocess              0.7.0\n",
      "pure_eval               0.2.3\n",
      "Pygments                2.19.2\n",
      "python-dateutil         2.9.0.post0\n",
      "pyzmq                   27.1.0\n",
      "setuptools              75.8.0\n",
      "six                     1.17.0\n",
      "stack-data              0.6.3\n",
      "tornado                 6.5.2\n",
      "traitlets               5.14.3\n",
      "virtualenv              20.29.0\n",
      "wcwidth                 0.2.13\n"
     ]
    }
   ],
   "source": []
  }
 ],
 "metadata": {
  "kernelspec": {
   "display_name": "Python 3",
   "language": "python",
   "name": "python3"
  },
  "language_info": {
   "codemirror_mode": {
    "name": "ipython",
    "version": 3
   },
   "file_extension": ".py",
   "mimetype": "text/x-python",
   "name": "python",
   "nbconvert_exporter": "python",
   "pygments_lexer": "ipython3",
   "version": "3.13.1"
  }
 },
 "nbformat": 4,
 "nbformat_minor": 2
}
